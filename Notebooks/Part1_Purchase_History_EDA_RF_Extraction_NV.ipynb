{
 "cells": [
  {
   "cell_type": "markdown",
   "id": "52baa574",
   "metadata": {},
   "source": [
    "## Purpose\n",
    "\n",
    "To begin answering our business requirement, which, as a reminder, is providing insights related to which customers are more likely to buy a game about to be released, we start by finding out the gold standard for customer segmentation. In our case, the game in question is NieR:Automata$^{TM}$, and the methodology in question is cohort analysis.\n",
    "\n",
    "This Notebook explores the different cohort analysis types on our customer dataset. This is a simple training notebook, as 2 of the 3 cohort types are not very useful for the task at hand.\n",
    "\n",
    "The three types are:\n",
    "\n",
    " - Time cohorts: classifies groups of customers based on when they signed up for a service, or purchased a product. This analysis stream useful for understandong retention of customer in time, but requires us to have data that shows user engagement with a service/app over time, and the data we have doesn't really fill that requirement. This notebook does not cover this.\n",
    " - Behaviour cohorts: classifies groups of customers based on the type of products or services they bought or signed up for. This stream is very useful for clustering customers based on shopping habits.\n",
    " - Size cohorts: classifies users based on how long or how much they spent. This could be useful in a different exercise: identifying whales (https://www.blog.udonis.co/mobile-marketing/mobile-games/mobile-games-whales#:~:text=Whales%20are%20the%20users%20that,that%20easy%20to%20%E2%80%9Ccatch%E2%80%9D). However, this notebook will not go into more detail than this."
   ]
  },
  {
   "cell_type": "code",
   "execution_count": 4,
   "id": "ba265e29",
   "metadata": {},
   "outputs": [],
   "source": [
    "# Imports\n",
    "import warnings\n",
    "warnings.filterwarnings('ignore')\n",
    "\n",
    "import numpy as np  # For data processing\n",
    "import pandas as pd  # For processing and IO\n",
    "\n",
    "import datetime as dt  # For processing date objects\n",
    "\n",
    "import seaborn as sns  # For plotting\n",
    "from matplotlib import pyplot as plt\n",
    "%matplotlib inline"
   ]
  },
  {
   "cell_type": "markdown",
   "id": "255156f7",
   "metadata": {},
   "source": [
    "### Data loading and preprocessing\n",
    "\n",
    "Let's load the relevant data, which comes from the `purchase_data.csv` file in `data/raw/`. Here, we are loading the relevant data file in pandas, making sure that the timestamp column is converted to a datetime column, which we can manipulate using the `.dt` accessor."
   ]
  },
  {
   "cell_type": "code",
   "execution_count": 6,
   "id": "570ae162",
   "metadata": {},
   "outputs": [
    {
     "data": {
      "text/html": [
       "<div>\n",
       "<style scoped>\n",
       "    .dataframe tbody tr th:only-of-type {\n",
       "        vertical-align: middle;\n",
       "    }\n",
       "\n",
       "    .dataframe tbody tr th {\n",
       "        vertical-align: top;\n",
       "    }\n",
       "\n",
       "    .dataframe thead th {\n",
       "        text-align: right;\n",
       "    }\n",
       "</style>\n",
       "<table border=\"1\" class=\"dataframe\">\n",
       "  <thead>\n",
       "    <tr style=\"text-align: right;\">\n",
       "      <th></th>\n",
       "      <th>userid</th>\n",
       "      <th>appid</th>\n",
       "      <th>timestamp_purchased</th>\n",
       "    </tr>\n",
       "  </thead>\n",
       "  <tbody>\n",
       "    <tr>\n",
       "      <th>0</th>\n",
       "      <td>1cf3a632c88a4344af6e9f8506210967f0d8f1548e69c9...</td>\n",
       "      <td>23300</td>\n",
       "      <td>2016-01-29 04:13:41.554344+00:00</td>\n",
       "    </tr>\n",
       "    <tr>\n",
       "      <th>1</th>\n",
       "      <td>2e762ce0a7c28b4474de43aeeeaa6dd68d1c2802a82541...</td>\n",
       "      <td>23300</td>\n",
       "      <td>2016-04-15 18:39:19.554344+00:00</td>\n",
       "    </tr>\n",
       "    <tr>\n",
       "      <th>2</th>\n",
       "      <td>ebf7bc41fe51d8fea9f27283d2d4910ae52505262c899e...</td>\n",
       "      <td>23300</td>\n",
       "      <td>2015-09-12 05:44:58.554344+00:00</td>\n",
       "    </tr>\n",
       "    <tr>\n",
       "      <th>3</th>\n",
       "      <td>78fcb0ddaac554205138891e3cc8e0a8cc06710639499c...</td>\n",
       "      <td>23300</td>\n",
       "      <td>2015-12-30 17:58:04.554344+00:00</td>\n",
       "    </tr>\n",
       "    <tr>\n",
       "      <th>4</th>\n",
       "      <td>5618b22d5737dad09264d0dd42d7c45d26360707be001c...</td>\n",
       "      <td>23300</td>\n",
       "      <td>2013-07-22 23:55:09.554344+00:00</td>\n",
       "    </tr>\n",
       "  </tbody>\n",
       "</table>\n",
       "</div>"
      ],
      "text/plain": [
       "                                              userid  appid  \\\n",
       "0  1cf3a632c88a4344af6e9f8506210967f0d8f1548e69c9...  23300   \n",
       "1  2e762ce0a7c28b4474de43aeeeaa6dd68d1c2802a82541...  23300   \n",
       "2  ebf7bc41fe51d8fea9f27283d2d4910ae52505262c899e...  23300   \n",
       "3  78fcb0ddaac554205138891e3cc8e0a8cc06710639499c...  23300   \n",
       "4  5618b22d5737dad09264d0dd42d7c45d26360707be001c...  23300   \n",
       "\n",
       "               timestamp_purchased  \n",
       "0 2016-01-29 04:13:41.554344+00:00  \n",
       "1 2016-04-15 18:39:19.554344+00:00  \n",
       "2 2015-09-12 05:44:58.554344+00:00  \n",
       "3 2015-12-30 17:58:04.554344+00:00  \n",
       "4 2013-07-22 23:55:09.554344+00:00  "
      ]
     },
     "metadata": {},
     "output_type": "display_data"
    },
    {
     "name": "stdout",
     "output_type": "stream",
     "text": [
      "(180995, 3)\n"
     ]
    }
   ],
   "source": [
    "data = pd.read_csv(\n",
    "    '../data/raw/purchase_data.csv',\n",
    "    parse_dates=['timestamp_purchased']\n",
    ")\n",
    "display(data.head())\n",
    "print(data.shape)"
   ]
  },
  {
   "cell_type": "markdown",
   "id": "e3bdeeea",
   "metadata": {},
   "source": [
    "Let's have a look at the columns, to have an idea their make up.\n",
    "\n",
    "There are only 3 columns:\n",
    "\n",
    " - userid: a string containing a hashed version of the user information. This is essentially a categorical column.\n",
    " - appid: an integer that tells which application the row refers to. This is essentially a categorical column.\n",
    " - timestamp_purchased: a datetime column with purchase timestamps. We have converted this into datetime objects during loading.\n",
    "\n",
    "We can check the min and max of the `timestamp_purchased`, which gives us the earliest and latest purchase dates."
   ]
  },
  {
   "cell_type": "code",
   "execution_count": 7,
   "id": "fa0c987e",
   "metadata": {},
   "outputs": [
    {
     "data": {
      "text/plain": [
       "(Timestamp('2013-01-01 07:11:21.554344+0000', tz='UTC'),\n",
       " Timestamp('2017-03-01 06:54:44.554344+0000', tz='UTC'))"
      ]
     },
     "execution_count": 7,
     "metadata": {},
     "output_type": "execute_result"
    }
   ],
   "source": [
    "data['timestamp_purchased'].min(), data['timestamp_purchased'].max()"
   ]
  },
  {
   "cell_type": "markdown",
   "id": "c4e6167b",
   "metadata": {},
   "source": [
    "The data spans approximately 4 years. With this data, we can create 2 extra columns for each user: their frequency and recency metrics. Both of these metrics belong to the set of RFM metrics used commonly in behaviour analysis:\n",
    " - Recency: how recently has the user purchased an app from our company?\n",
    " - Frequency: How often does the user purchase from our company?\n",
    " - Monetary Value: How much do users typically spend per purchase? We don't have access to this data, so we will not use this metric.\n",
    " \n",
    "### A look at recency\n",
    "\n",
    "Let's start with recency. We can use the data we have been working with to calculate _recency_ by grouping the data by `userid` and finding the highest date stamp (which would be the user's most recent purchase). The _frequency_ can be calculated by grouping the data by `userid` an calculating the total number of purchases by user.\n",
    "\n",
    "We will define recency as the time from the user's last purchase to the time specified in the exercise description (2017-02-28). We can get the user's latest purchase by grouping the data. We will work on the full dataset for now, and calculate the recency in days."
   ]
  },
  {
   "cell_type": "code",
   "execution_count": 8,
   "id": "9e63b160",
   "metadata": {},
   "outputs": [
    {
     "data": {
      "text/html": [
       "<div>\n",
       "<style scoped>\n",
       "    .dataframe tbody tr th:only-of-type {\n",
       "        vertical-align: middle;\n",
       "    }\n",
       "\n",
       "    .dataframe tbody tr th {\n",
       "        vertical-align: top;\n",
       "    }\n",
       "\n",
       "    .dataframe thead th {\n",
       "        text-align: right;\n",
       "    }\n",
       "</style>\n",
       "<table border=\"1\" class=\"dataframe\">\n",
       "  <thead>\n",
       "    <tr style=\"text-align: right;\">\n",
       "      <th></th>\n",
       "      <th>userid</th>\n",
       "      <th>timestamp_purchased</th>\n",
       "    </tr>\n",
       "  </thead>\n",
       "  <tbody>\n",
       "    <tr>\n",
       "      <th>0</th>\n",
       "      <td>00002eaf0b53c394391f96a5cae5023ef8ae704797880b...</td>\n",
       "      <td>2016-09-05 04:20:52.554344+00:00</td>\n",
       "    </tr>\n",
       "    <tr>\n",
       "      <th>1</th>\n",
       "      <td>00015d3d8ae55e47cc0bf2d964ea7f6a3f4ac65239abe2...</td>\n",
       "      <td>2013-03-05 15:10:25.554344+00:00</td>\n",
       "    </tr>\n",
       "    <tr>\n",
       "      <th>2</th>\n",
       "      <td>0001bcf0af52b1f0c63fda0eab4844996685f5533bf22b...</td>\n",
       "      <td>2015-10-22 08:28:07.554344+00:00</td>\n",
       "    </tr>\n",
       "    <tr>\n",
       "      <th>3</th>\n",
       "      <td>000364b1cefaf76b3abf76080595936a32de847e908ee7...</td>\n",
       "      <td>2016-08-27 03:16:14.554344+00:00</td>\n",
       "    </tr>\n",
       "    <tr>\n",
       "      <th>4</th>\n",
       "      <td>00044ddcf913d409bb09aeb32c152eca30a8c9f4cd61da...</td>\n",
       "      <td>2014-04-29 07:55:34.554344+00:00</td>\n",
       "    </tr>\n",
       "  </tbody>\n",
       "</table>\n",
       "</div>"
      ],
      "text/plain": [
       "                                              userid  \\\n",
       "0  00002eaf0b53c394391f96a5cae5023ef8ae704797880b...   \n",
       "1  00015d3d8ae55e47cc0bf2d964ea7f6a3f4ac65239abe2...   \n",
       "2  0001bcf0af52b1f0c63fda0eab4844996685f5533bf22b...   \n",
       "3  000364b1cefaf76b3abf76080595936a32de847e908ee7...   \n",
       "4  00044ddcf913d409bb09aeb32c152eca30a8c9f4cd61da...   \n",
       "\n",
       "               timestamp_purchased  \n",
       "0 2016-09-05 04:20:52.554344+00:00  \n",
       "1 2013-03-05 15:10:25.554344+00:00  \n",
       "2 2015-10-22 08:28:07.554344+00:00  \n",
       "3 2016-08-27 03:16:14.554344+00:00  \n",
       "4 2014-04-29 07:55:34.554344+00:00  "
      ]
     },
     "metadata": {},
     "output_type": "display_data"
    }
   ],
   "source": [
    "recency_data = data.groupby(\n",
    "    'userid',  # group by user\n",
    "    as_index=False\n",
    ")[\n",
    "    'timestamp_purchased'  # focusing on the purchase timestamp\n",
    "].max()  # and getting the latest purchase\n",
    "display(recency_data.head())"
   ]
  },
  {
   "cell_type": "markdown",
   "id": "0f4e1c73",
   "metadata": {},
   "source": [
    "We want to find the time from last purchase to \"today\", and we want to do so by rounding the datetime object to the nearest day (after all, does it matter whether the user has not made a purchase for 24 days and 22hrs)?\n",
    "\n",
    "The function `round_time` is used to get the timedelta and to round it to the nearest day."
   ]
  },
  {
   "cell_type": "code",
   "execution_count": 10,
   "id": "b882e7d6",
   "metadata": {},
   "outputs": [],
   "source": [
    "def round_time(\n",
    "    dt1: dt.datetime, \n",
    "    dt2: dt.datetime, \n",
    "    round_to: str = '1d'\n",
    ") -> dt.timedelta:\n",
    "    \"\"\"\n",
    "    Returns a rounded timedelta from two datetime objects.\n",
    "    dt1 and dt2 should be two datetime objects.\n",
    "    \"\"\"\n",
    "    \n",
    "    return (dt1 - dt2).round(round_to)"
   ]
  },
  {
   "cell_type": "code",
   "execution_count": 11,
   "id": "4f4343ee",
   "metadata": {},
   "outputs": [
    {
     "data": {
      "text/html": [
       "<div>\n",
       "<style scoped>\n",
       "    .dataframe tbody tr th:only-of-type {\n",
       "        vertical-align: middle;\n",
       "    }\n",
       "\n",
       "    .dataframe tbody tr th {\n",
       "        vertical-align: top;\n",
       "    }\n",
       "\n",
       "    .dataframe thead th {\n",
       "        text-align: right;\n",
       "    }\n",
       "</style>\n",
       "<table border=\"1\" class=\"dataframe\">\n",
       "  <thead>\n",
       "    <tr style=\"text-align: right;\">\n",
       "      <th></th>\n",
       "      <th>userid</th>\n",
       "      <th>timestamp_purchased</th>\n",
       "      <th>user_recency</th>\n",
       "    </tr>\n",
       "  </thead>\n",
       "  <tbody>\n",
       "    <tr>\n",
       "      <th>0</th>\n",
       "      <td>00002eaf0b53c394391f96a5cae5023ef8ae704797880b...</td>\n",
       "      <td>2016-09-05 04:20:52.554344+00:00</td>\n",
       "      <td>176</td>\n",
       "    </tr>\n",
       "    <tr>\n",
       "      <th>1</th>\n",
       "      <td>00015d3d8ae55e47cc0bf2d964ea7f6a3f4ac65239abe2...</td>\n",
       "      <td>2013-03-05 15:10:25.554344+00:00</td>\n",
       "      <td>1455</td>\n",
       "    </tr>\n",
       "    <tr>\n",
       "      <th>2</th>\n",
       "      <td>0001bcf0af52b1f0c63fda0eab4844996685f5533bf22b...</td>\n",
       "      <td>2015-10-22 08:28:07.554344+00:00</td>\n",
       "      <td>495</td>\n",
       "    </tr>\n",
       "    <tr>\n",
       "      <th>3</th>\n",
       "      <td>000364b1cefaf76b3abf76080595936a32de847e908ee7...</td>\n",
       "      <td>2016-08-27 03:16:14.554344+00:00</td>\n",
       "      <td>185</td>\n",
       "    </tr>\n",
       "    <tr>\n",
       "      <th>4</th>\n",
       "      <td>00044ddcf913d409bb09aeb32c152eca30a8c9f4cd61da...</td>\n",
       "      <td>2014-04-29 07:55:34.554344+00:00</td>\n",
       "      <td>1036</td>\n",
       "    </tr>\n",
       "  </tbody>\n",
       "</table>\n",
       "</div>"
      ],
      "text/plain": [
       "                                              userid  \\\n",
       "0  00002eaf0b53c394391f96a5cae5023ef8ae704797880b...   \n",
       "1  00015d3d8ae55e47cc0bf2d964ea7f6a3f4ac65239abe2...   \n",
       "2  0001bcf0af52b1f0c63fda0eab4844996685f5533bf22b...   \n",
       "3  000364b1cefaf76b3abf76080595936a32de847e908ee7...   \n",
       "4  00044ddcf913d409bb09aeb32c152eca30a8c9f4cd61da...   \n",
       "\n",
       "               timestamp_purchased  user_recency  \n",
       "0 2016-09-05 04:20:52.554344+00:00           176  \n",
       "1 2013-03-05 15:10:25.554344+00:00          1455  \n",
       "2 2015-10-22 08:28:07.554344+00:00           495  \n",
       "3 2016-08-27 03:16:14.554344+00:00           185  \n",
       "4 2014-04-29 07:55:34.554344+00:00          1036  "
      ]
     },
     "metadata": {},
     "output_type": "display_data"
    }
   ],
   "source": [
    "# We set a \"today\" object. This is an arbitrary date.\n",
    "today = dt.datetime(2017, 2, 28, 0, 0, 0, tzinfo=dt.timezone.utc)\n",
    "\n",
    "# And calculate the recency\n",
    "recency_data['user_recency'] = recency_data['timestamp_purchased'].apply(\n",
    "    lambda x: round_time(today, x).days\n",
    ")\n",
    "\n",
    "# We replace recency of -1 with 0 (since recency of -1 is impossible)\n",
    "recency_data['user_recency'] = recency_data['user_recency'].replace(-1, 0)\n",
    "display(recency_data.head())"
   ]
  },
  {
   "cell_type": "markdown",
   "id": "e2541112",
   "metadata": {},
   "source": [
    "Let's explore. First, we will look at the extent of recency values."
   ]
  },
  {
   "cell_type": "code",
   "execution_count": 12,
   "id": "b3335527",
   "metadata": {},
   "outputs": [
    {
     "name": "stdout",
     "output_type": "stream",
     "text": [
      "0 1519\n"
     ]
    }
   ],
   "source": [
    "print(\n",
    "    recency_data['user_recency'].min(), \n",
    "    recency_data['user_recency'].max()\n",
    ")"
   ]
  },
  {
   "cell_type": "code",
   "execution_count": 13,
   "id": "eb3e61f2",
   "metadata": {},
   "outputs": [
    {
     "data": {
      "text/html": [
       "<div>\n",
       "<style scoped>\n",
       "    .dataframe tbody tr th:only-of-type {\n",
       "        vertical-align: middle;\n",
       "    }\n",
       "\n",
       "    .dataframe tbody tr th {\n",
       "        vertical-align: top;\n",
       "    }\n",
       "\n",
       "    .dataframe thead th {\n",
       "        text-align: right;\n",
       "    }\n",
       "</style>\n",
       "<table border=\"1\" class=\"dataframe\">\n",
       "  <thead>\n",
       "    <tr style=\"text-align: right;\">\n",
       "      <th></th>\n",
       "      <th>userid</th>\n",
       "      <th>timestamp_purchased</th>\n",
       "      <th>user_recency</th>\n",
       "    </tr>\n",
       "  </thead>\n",
       "  <tbody>\n",
       "    <tr>\n",
       "      <th>126465</th>\n",
       "      <td>d2ead3b4d0c28347dcb03ac8ea027a7affc4d04f204ad1...</td>\n",
       "      <td>2013-01-01 07:11:21.554344+00:00</td>\n",
       "      <td>1519</td>\n",
       "    </tr>\n",
       "  </tbody>\n",
       "</table>\n",
       "</div>"
      ],
      "text/plain": [
       "                                                   userid  \\\n",
       "126465  d2ead3b4d0c28347dcb03ac8ea027a7affc4d04f204ad1...   \n",
       "\n",
       "                    timestamp_purchased  user_recency  \n",
       "126465 2013-01-01 07:11:21.554344+00:00          1519  "
      ]
     },
     "execution_count": 13,
     "metadata": {},
     "output_type": "execute_result"
    }
   ],
   "source": [
    "recency_data.query('user_recency == 1519')"
   ]
  },
  {
   "cell_type": "markdown",
   "id": "5f7f6f0b",
   "metadata": {},
   "source": [
    "We see that users have last purchased games as recently as \"today\" (i.e. 2017-02-28), and as far back as the 1$^{st}$ of January, 2013. "
   ]
  },
  {
   "cell_type": "code",
   "execution_count": 14,
   "id": "8536293c",
   "metadata": {},
   "outputs": [
    {
     "data": {
      "text/plain": [
       "<seaborn.axisgrid.FacetGrid at 0x7faf4b5119a0>"
      ]
     },
     "execution_count": 14,
     "metadata": {},
     "output_type": "execute_result"
    },
    {
     "data": {
      "image/png": "[encoded data removed]",
      "text/plain": [
       "<Figure size 360x360 with 1 Axes>"
      ]
     },
     "metadata": {
      "needs_background": "light"
     },
     "output_type": "display_data"
    }
   ],
   "source": [
    "sns.displot(data = recency_data, x = 'user_recency', kde=True, bins = 25)"
   ]
  },
  {
   "cell_type": "code",
   "execution_count": 15,
   "id": "7f369c1e",
   "metadata": {},
   "outputs": [
    {
     "data": {
      "text/plain": [
       "<AxesSubplot:xlabel='user_recency'>"
      ]
     },
     "execution_count": 15,
     "metadata": {},
     "output_type": "execute_result"
    },
    {
     "data": {
      "image/png": "[encoded data removed]",
      "text/plain": [
       "<Figure size 432x288 with 1 Axes>"
      ]
     },
     "metadata": {
      "needs_background": "light"
     },
     "output_type": "display_data"
    }
   ],
   "source": [
    "sns.boxplot(data = recency_data, x = 'user_recency')"
   ]
  },
  {
   "cell_type": "markdown",
   "id": "a89fa84b",
   "metadata": {},
   "source": [
    "From the plots above, the recency data appears to be right skewed, with a low right tail, and there do not appear to be any outliers based on quantiles.\n",
    "\n",
    "### A look at frequency\n",
    "\n",
    "Let's calculate the frequency values! The frequency is defined as the number of purchases in a given period. Since our data spans almost exactly 4 years, we can sum the number of purchases per user and divide the result by 4."
   ]
  },
  {
   "cell_type": "code",
   "execution_count": 18,
   "id": "563c93e8",
   "metadata": {},
   "outputs": [
    {
     "data": {
      "text/html": [
       "<div>\n",
       "<style scoped>\n",
       "    .dataframe tbody tr th:only-of-type {\n",
       "        vertical-align: middle;\n",
       "    }\n",
       "\n",
       "    .dataframe tbody tr th {\n",
       "        vertical-align: top;\n",
       "    }\n",
       "\n",
       "    .dataframe thead th {\n",
       "        text-align: right;\n",
       "    }\n",
       "</style>\n",
       "<table border=\"1\" class=\"dataframe\">\n",
       "  <thead>\n",
       "    <tr style=\"text-align: right;\">\n",
       "      <th></th>\n",
       "      <th>userid</th>\n",
       "      <th>user_frequency</th>\n",
       "    </tr>\n",
       "  </thead>\n",
       "  <tbody>\n",
       "    <tr>\n",
       "      <th>0</th>\n",
       "      <td>00002eaf0b53c394391f96a5cae5023ef8ae704797880b...</td>\n",
       "      <td>0.25</td>\n",
       "    </tr>\n",
       "    <tr>\n",
       "      <th>1</th>\n",
       "      <td>00015d3d8ae55e47cc0bf2d964ea7f6a3f4ac65239abe2...</td>\n",
       "      <td>0.25</td>\n",
       "    </tr>\n",
       "    <tr>\n",
       "      <th>2</th>\n",
       "      <td>0001bcf0af52b1f0c63fda0eab4844996685f5533bf22b...</td>\n",
       "      <td>0.25</td>\n",
       "    </tr>\n",
       "    <tr>\n",
       "      <th>3</th>\n",
       "      <td>000364b1cefaf76b3abf76080595936a32de847e908ee7...</td>\n",
       "      <td>0.25</td>\n",
       "    </tr>\n",
       "    <tr>\n",
       "      <th>4</th>\n",
       "      <td>00044ddcf913d409bb09aeb32c152eca30a8c9f4cd61da...</td>\n",
       "      <td>0.25</td>\n",
       "    </tr>\n",
       "    <tr>\n",
       "      <th>...</th>\n",
       "      <td>...</td>\n",
       "      <td>...</td>\n",
       "    </tr>\n",
       "    <tr>\n",
       "      <th>153201</th>\n",
       "      <td>fffe5f488a6795e0cf201a22f3e14fd9e5edc238b8e7cc...</td>\n",
       "      <td>0.25</td>\n",
       "    </tr>\n",
       "    <tr>\n",
       "      <th>153202</th>\n",
       "      <td>fffe61ee06a14eb298711bb3a15e627f89a03048c93a64...</td>\n",
       "      <td>0.25</td>\n",
       "    </tr>\n",
       "    <tr>\n",
       "      <th>153203</th>\n",
       "      <td>ffff0366ce6fca05e189be83e199c5efd05d1a72f628ba...</td>\n",
       "      <td>0.25</td>\n",
       "    </tr>\n",
       "    <tr>\n",
       "      <th>153204</th>\n",
       "      <td>ffff81c2a0938752d35139f9990671df0b26c4d70b4c78...</td>\n",
       "      <td>0.25</td>\n",
       "    </tr>\n",
       "    <tr>\n",
       "      <th>153205</th>\n",
       "      <td>ffffb47f29d86cc50814836d7904b5da15295863a19014...</td>\n",
       "      <td>0.25</td>\n",
       "    </tr>\n",
       "  </tbody>\n",
       "</table>\n",
       "<p>153206 rows × 2 columns</p>\n",
       "</div>"
      ],
      "text/plain": [
       "                                                   userid  user_frequency\n",
       "0       00002eaf0b53c394391f96a5cae5023ef8ae704797880b...            0.25\n",
       "1       00015d3d8ae55e47cc0bf2d964ea7f6a3f4ac65239abe2...            0.25\n",
       "2       0001bcf0af52b1f0c63fda0eab4844996685f5533bf22b...            0.25\n",
       "3       000364b1cefaf76b3abf76080595936a32de847e908ee7...            0.25\n",
       "4       00044ddcf913d409bb09aeb32c152eca30a8c9f4cd61da...            0.25\n",
       "...                                                   ...             ...\n",
       "153201  fffe5f488a6795e0cf201a22f3e14fd9e5edc238b8e7cc...            0.25\n",
       "153202  fffe61ee06a14eb298711bb3a15e627f89a03048c93a64...            0.25\n",
       "153203  ffff0366ce6fca05e189be83e199c5efd05d1a72f628ba...            0.25\n",
       "153204  ffff81c2a0938752d35139f9990671df0b26c4d70b4c78...            0.25\n",
       "153205  ffffb47f29d86cc50814836d7904b5da15295863a19014...            0.25\n",
       "\n",
       "[153206 rows x 2 columns]"
      ]
     },
     "metadata": {},
     "output_type": "display_data"
    }
   ],
   "source": [
    "frequency_data = data.groupby(\n",
    "    'userid', \n",
    ")['userid'].count().div(4).rename('user_frequency').reset_index()\n",
    "display(frequency_data)"
   ]
  },
  {
   "cell_type": "markdown",
   "id": "1c6e1d4e",
   "metadata": {},
   "source": [
    "Let's explore. First, we will look at the extent of frequency values."
   ]
  },
  {
   "cell_type": "code",
   "execution_count": 17,
   "id": "d563e41f",
   "metadata": {},
   "outputs": [
    {
     "name": "stdout",
     "output_type": "stream",
     "text": [
      "Min frequency:  0.25 \n",
      "Max frequency:  8.75 \n",
      "Avg frequency:  0.29534580891087814\n"
     ]
    }
   ],
   "source": [
    "print(\n",
    "    'Min frequency: ', frequency_data['user_frequency'].min(),\n",
    "    '\\nMax frequency: ', frequency_data['user_frequency'].max(),\n",
    "    '\\nAvg frequency: ', frequency_data['user_frequency'].mean()\n",
    ")"
   ]
  },
  {
   "cell_type": "code",
   "execution_count": 19,
   "id": "4afe183c",
   "metadata": {},
   "outputs": [
    {
     "data": {
      "text/plain": [
       "<seaborn.axisgrid.FacetGrid at 0x7faf338924f0>"
      ]
     },
     "execution_count": 19,
     "metadata": {},
     "output_type": "execute_result"
    },
    {
     "data": {
      "image/png": "[encoded data removed]",
      "text/plain": [
       "<Figure size 360x360 with 1 Axes>"
      ]
     },
     "metadata": {
      "needs_background": "light"
     },
     "output_type": "display_data"
    }
   ],
   "source": [
    "sns.displot(data = frequency_data, x = 'user_frequency')"
   ]
  },
  {
   "cell_type": "code",
   "execution_count": 20,
   "id": "27624e6a",
   "metadata": {},
   "outputs": [
    {
     "data": {
      "text/plain": [
       "<AxesSubplot:xlabel='user_frequency'>"
      ]
     },
     "execution_count": 20,
     "metadata": {},
     "output_type": "execute_result"
    },
    {
     "data": {
      "image/png": "[encoded data removed]",
      "text/plain": [
       "<Figure size 432x288 with 1 Axes>"
      ]
     },
     "metadata": {
      "needs_background": "light"
     },
     "output_type": "display_data"
    }
   ],
   "source": [
    "sns.boxplot(data = frequency_data, x = 'user_frequency')"
   ]
  },
  {
   "cell_type": "markdown",
   "id": "a69888c7",
   "metadata": {},
   "source": [
    "The frequency data tells a very different story. It suggests that, while the data is heavily right skewed, the majority of users buy one game every 4 years. The box plot suggests that we should classify any other value as an outlier based on the IQR."
   ]
  },
  {
   "cell_type": "code",
   "execution_count": 22,
   "id": "68cbab43",
   "metadata": {
    "scrolled": false
   },
   "outputs": [
    {
     "data": {
      "text/plain": [
       "(-0.5, 10.0)"
      ]
     },
     "execution_count": 22,
     "metadata": {},
     "output_type": "execute_result"
    },
    {
     "data": {
      "image/png": "[encoded data removed]",
      "text/plain": [
       "<Figure size 432x432 with 3 Axes>"
      ]
     },
     "metadata": {
      "needs_background": "light"
     },
     "output_type": "display_data"
    }
   ],
   "source": [
    "g = sns.jointplot(\n",
    "    data = pd.merge(\n",
    "        recency_data,\n",
    "        frequency_data,\n",
    "        on='userid',\n",
    "        how='outer'\n",
    "    ),\n",
    "    x = 'user_recency',\n",
    "    y = 'user_frequency',\n",
    "    marker = 'x', s = 10,\n",
    "    marginal_kws=dict(bins=25, fill=False),\n",
    ")\n",
    "\n",
    "g.set_axis_labels(\n",
    "    'Purchase recency (days)', \n",
    "    'Purchase frequency (over 4 years)')\n",
    "g.ax_marg_x.set_xlim(-50, 1500)\n",
    "g.ax_marg_y.set_ylim(-0.5, 10)"
   ]
  },
  {
   "cell_type": "markdown",
   "id": "f15f2f77",
   "metadata": {},
   "source": [
    "As we can see, the number of purchases is as low as 1/4, which is one purchase for the 4 years, and as high as 8.75, which represents 35 purchases in the 4 years. The average of 0.30, which is slightly higher than the minimum, indicates that users tend to buy, on average, 1 game from our company every 4 years.\n",
    "\n",
    "Plotting the two quantities reveals that the majority of users purchases 1 to 2 games sporadically. \n",
    "\n",
    "We can add 2 more pieces of data. The first one, which we will tackle in the next Notebook, will help us develop an appreciation for how the genre of the game changes our analysis based on RF values. The other piece of data is related to churn.\n",
    "\n",
    "---\n",
    "\n",
    "An important question we need to ask is: have these customers churned? A bigger question is: what recency/frequency values do we consider users to have churned? This is a fairly difficult question to answer, as it very much depends on the context. It is probably ok to remove users based on their high recency, but we should experiment with including all users and then progressively removing them based on their recency.\n",
    "\n",
    "An potential fix to the frequency is to select a fixed time range (e.g. 6 months or 1 year) and create frequency values for each customer for each of those years.\n",
    "\n",
    "Since we have data for 4 years, we will find the frequency for each user, for each of the 4 years. We will combine the last two years, since we only have 2 months for 2017."
   ]
  },
  {
   "cell_type": "code",
   "execution_count": 23,
   "id": "b93b85fa",
   "metadata": {},
   "outputs": [],
   "source": [
    "# We get the years and store them to use later\n",
    "years = np.unique(data['timestamp_purchased'].dt.year)[:-1]\n",
    "\n",
    "# We will store the results in a dataframe and append to a list\n",
    "yearly_frequencies = []\n",
    "\n",
    "for i in range(len(years)):\n",
    "    \n",
    "    # We create a boolean mask for each year\n",
    "    if i >= len(years) - 1:\n",
    "        mask = data['timestamp_purchased'].dt.year >= years[i]\n",
    "    else:\n",
    "        mask = data['timestamp_purchased'].dt.year == years[i]\n",
    "    \n",
    "    # And subset the data\n",
    "    data_subset = data[mask]\n",
    "    \n",
    "    # Then we aggregate\n",
    "    yearly_frequencies.append(data_subset.groupby('userid').aggregate(\n",
    "        {'userid': 'count'}\n",
    "    ).rename(columns={\n",
    "        'userid': f'user_frequency_{years[i]}',\n",
    "        }\n",
    "    ))"
   ]
  },
  {
   "cell_type": "markdown",
   "id": "5678cc82",
   "metadata": {},
   "source": [
    "Then, we want to merge all of the dataframes into one. We can use `reduce` to help us with this process:"
   ]
  },
  {
   "cell_type": "code",
   "execution_count": 24,
   "id": "c70a9e85",
   "metadata": {},
   "outputs": [
    {
     "data": {
      "text/html": [
       "<div>\n",
       "<style scoped>\n",
       "    .dataframe tbody tr th:only-of-type {\n",
       "        vertical-align: middle;\n",
       "    }\n",
       "\n",
       "    .dataframe tbody tr th {\n",
       "        vertical-align: top;\n",
       "    }\n",
       "\n",
       "    .dataframe thead th {\n",
       "        text-align: right;\n",
       "    }\n",
       "</style>\n",
       "<table border=\"1\" class=\"dataframe\">\n",
       "  <thead>\n",
       "    <tr style=\"text-align: right;\">\n",
       "      <th></th>\n",
       "      <th>user_frequency_2013</th>\n",
       "      <th>user_frequency_2014</th>\n",
       "      <th>user_frequency_2015</th>\n",
       "      <th>user_frequency_2016</th>\n",
       "    </tr>\n",
       "    <tr>\n",
       "      <th>userid</th>\n",
       "      <th></th>\n",
       "      <th></th>\n",
       "      <th></th>\n",
       "      <th></th>\n",
       "    </tr>\n",
       "  </thead>\n",
       "  <tbody>\n",
       "    <tr>\n",
       "      <th>00002eaf0b53c394391f96a5cae5023ef8ae704797880bb97b1a78eb0c6eb05a</th>\n",
       "      <td>0</td>\n",
       "      <td>0</td>\n",
       "      <td>0</td>\n",
       "      <td>1</td>\n",
       "    </tr>\n",
       "    <tr>\n",
       "      <th>00015d3d8ae55e47cc0bf2d964ea7f6a3f4ac65239abe280dd1adb8b143e3ff1</th>\n",
       "      <td>1</td>\n",
       "      <td>0</td>\n",
       "      <td>0</td>\n",
       "      <td>0</td>\n",
       "    </tr>\n",
       "    <tr>\n",
       "      <th>0001bcf0af52b1f0c63fda0eab4844996685f5533bf22b9635858cf2b97ba162</th>\n",
       "      <td>0</td>\n",
       "      <td>0</td>\n",
       "      <td>1</td>\n",
       "      <td>0</td>\n",
       "    </tr>\n",
       "    <tr>\n",
       "      <th>000364b1cefaf76b3abf76080595936a32de847e908ee70cf0ac25cff96b6fe0</th>\n",
       "      <td>0</td>\n",
       "      <td>0</td>\n",
       "      <td>0</td>\n",
       "      <td>1</td>\n",
       "    </tr>\n",
       "    <tr>\n",
       "      <th>00044ddcf913d409bb09aeb32c152eca30a8c9f4cd61da8906537d9df5e86178</th>\n",
       "      <td>0</td>\n",
       "      <td>1</td>\n",
       "      <td>0</td>\n",
       "      <td>0</td>\n",
       "    </tr>\n",
       "  </tbody>\n",
       "</table>\n",
       "</div>"
      ],
      "text/plain": [
       "                                                    user_frequency_2013  \\\n",
       "userid                                                                    \n",
       "00002eaf0b53c394391f96a5cae5023ef8ae704797880bb...                    0   \n",
       "00015d3d8ae55e47cc0bf2d964ea7f6a3f4ac65239abe28...                    1   \n",
       "0001bcf0af52b1f0c63fda0eab4844996685f5533bf22b9...                    0   \n",
       "000364b1cefaf76b3abf76080595936a32de847e908ee70...                    0   \n",
       "00044ddcf913d409bb09aeb32c152eca30a8c9f4cd61da8...                    0   \n",
       "\n",
       "                                                    user_frequency_2014  \\\n",
       "userid                                                                    \n",
       "00002eaf0b53c394391f96a5cae5023ef8ae704797880bb...                    0   \n",
       "00015d3d8ae55e47cc0bf2d964ea7f6a3f4ac65239abe28...                    0   \n",
       "0001bcf0af52b1f0c63fda0eab4844996685f5533bf22b9...                    0   \n",
       "000364b1cefaf76b3abf76080595936a32de847e908ee70...                    0   \n",
       "00044ddcf913d409bb09aeb32c152eca30a8c9f4cd61da8...                    1   \n",
       "\n",
       "                                                    user_frequency_2015  \\\n",
       "userid                                                                    \n",
       "00002eaf0b53c394391f96a5cae5023ef8ae704797880bb...                    0   \n",
       "00015d3d8ae55e47cc0bf2d964ea7f6a3f4ac65239abe28...                    0   \n",
       "0001bcf0af52b1f0c63fda0eab4844996685f5533bf22b9...                    1   \n",
       "000364b1cefaf76b3abf76080595936a32de847e908ee70...                    0   \n",
       "00044ddcf913d409bb09aeb32c152eca30a8c9f4cd61da8...                    0   \n",
       "\n",
       "                                                    user_frequency_2016  \n",
       "userid                                                                   \n",
       "00002eaf0b53c394391f96a5cae5023ef8ae704797880bb...                    1  \n",
       "00015d3d8ae55e47cc0bf2d964ea7f6a3f4ac65239abe28...                    0  \n",
       "0001bcf0af52b1f0c63fda0eab4844996685f5533bf22b9...                    0  \n",
       "000364b1cefaf76b3abf76080595936a32de847e908ee70...                    1  \n",
       "00044ddcf913d409bb09aeb32c152eca30a8c9f4cd61da8...                    0  "
      ]
     },
     "metadata": {},
     "output_type": "display_data"
    }
   ],
   "source": [
    "from functools import reduce\n",
    "\n",
    "frequencies_data = reduce(\n",
    "    lambda left,right: pd.merge(\n",
    "        left, right, \n",
    "        left_index=True,  # merge using the left dataframe's index\n",
    "        right_index=True,  # merge using the right dataframe's index\n",
    "        how='outer'  # keep all of the data\n",
    "    ),\n",
    "    yearly_frequencies\n",
    ").fillna(0).astype(int) # fill null frequencies with 0 to signify user did not purchase\n",
    "display(frequencies_data.head())"
   ]
  },
  {
   "cell_type": "markdown",
   "id": "82009b99",
   "metadata": {},
   "source": [
    "The data now lefts us see that, for example, user with id **00002eaf0b53c394391f96a5cae5023ef8ae704797880bb97b1a78eb0c6eb05a** purchased one game in 2016-2017, but user with id **0001bcf0af52b1f0c63fda0eab4844996685f5533bf22b9635858cf2b97ba162** bought a game in 2015-2016, but has not purchased anything else.\n",
    "\n",
    "Defining churn depends on the business case. If we are considering a game that users are meant to engage with every day, we would probably be justified in considering churned a user who has not engaged for at least 2 weeks. If we are considering a customer of a large chain supermarket, we might also take 2 weeks to 1 month as a cut-off for churn, considering that, \"on average, households now shop 4.9 times a week, across 2.7 different brands\" (from https://www.goinspire.co.uk/blog/customer-churn-rate-by-sector/). If we are analysing customer data for a monthly subscription company, we may (for example) consider churned a customer who cancelled their subcription and has not reactivated it in 3 months.\n",
    "\n",
    "In our case, we may considered a user that has not purchased a game in 3 years as churned. Defining churn is beyond the scope of this exercise, since we are not aiming to determine what causes churn."
   ]
  },
  {
   "cell_type": "code",
   "execution_count": 25,
   "id": "ccc27596",
   "metadata": {},
   "outputs": [
    {
     "data": {
      "text/html": [
       "<div>\n",
       "<style scoped>\n",
       "    .dataframe tbody tr th:only-of-type {\n",
       "        vertical-align: middle;\n",
       "    }\n",
       "\n",
       "    .dataframe tbody tr th {\n",
       "        vertical-align: top;\n",
       "    }\n",
       "\n",
       "    .dataframe thead th {\n",
       "        text-align: right;\n",
       "    }\n",
       "</style>\n",
       "<table border=\"1\" class=\"dataframe\">\n",
       "  <thead>\n",
       "    <tr style=\"text-align: right;\">\n",
       "      <th></th>\n",
       "      <th>user_frequency_2013</th>\n",
       "      <th>user_frequency_2014</th>\n",
       "      <th>user_frequency_2015</th>\n",
       "      <th>user_frequency_2016</th>\n",
       "      <th>sum_purchases</th>\n",
       "    </tr>\n",
       "    <tr>\n",
       "      <th>userid</th>\n",
       "      <th></th>\n",
       "      <th></th>\n",
       "      <th></th>\n",
       "      <th></th>\n",
       "      <th></th>\n",
       "    </tr>\n",
       "  </thead>\n",
       "  <tbody>\n",
       "    <tr>\n",
       "      <th>00002eaf0b53c394391f96a5cae5023ef8ae704797880bb97b1a78eb0c6eb05a</th>\n",
       "      <td>0</td>\n",
       "      <td>0</td>\n",
       "      <td>0</td>\n",
       "      <td>1</td>\n",
       "      <td>1</td>\n",
       "    </tr>\n",
       "    <tr>\n",
       "      <th>a50495404561ce885695d4269da4f0874e5d4d29c8bd3a091c704b4f81fb6edf</th>\n",
       "      <td>0</td>\n",
       "      <td>0</td>\n",
       "      <td>0</td>\n",
       "      <td>1</td>\n",
       "      <td>1</td>\n",
       "    </tr>\n",
       "    <tr>\n",
       "      <th>a502e5eb61d78269453d2f6aef9616a841c5c7d02dfda10d1efcb861e5700814</th>\n",
       "      <td>0</td>\n",
       "      <td>0</td>\n",
       "      <td>0</td>\n",
       "      <td>1</td>\n",
       "      <td>1</td>\n",
       "    </tr>\n",
       "    <tr>\n",
       "      <th>a502e2c43ead952ba0b3f44de87bf01260e29a4a9af0d0c47f29b11c4583406e</th>\n",
       "      <td>0</td>\n",
       "      <td>0</td>\n",
       "      <td>0</td>\n",
       "      <td>1</td>\n",
       "      <td>1</td>\n",
       "    </tr>\n",
       "    <tr>\n",
       "      <th>a501ff908531db342b70a312769fd5fa2e1138500bd1d23ffefcb5cde9bd37a5</th>\n",
       "      <td>0</td>\n",
       "      <td>0</td>\n",
       "      <td>1</td>\n",
       "      <td>0</td>\n",
       "      <td>1</td>\n",
       "    </tr>\n",
       "    <tr>\n",
       "      <th>...</th>\n",
       "      <td>...</td>\n",
       "      <td>...</td>\n",
       "      <td>...</td>\n",
       "      <td>...</td>\n",
       "      <td>...</td>\n",
       "    </tr>\n",
       "    <tr>\n",
       "      <th>585c7ce403ac8a5a4add4d421b14eb60390ed7d5775075dc7e5263aeccfd102b</th>\n",
       "      <td>6</td>\n",
       "      <td>6</td>\n",
       "      <td>9</td>\n",
       "      <td>8</td>\n",
       "      <td>29</td>\n",
       "    </tr>\n",
       "    <tr>\n",
       "      <th>02af4f533c4c4a1efbee21b69b1d8e6d84e255dc5f25c4b76b1938a0d77c8cae</th>\n",
       "      <td>0</td>\n",
       "      <td>0</td>\n",
       "      <td>28</td>\n",
       "      <td>2</td>\n",
       "      <td>30</td>\n",
       "    </tr>\n",
       "    <tr>\n",
       "      <th>42c37973743d7c79bf165bc656307e7e63cc07aa0d4fe48747f2d84de1bebd3b</th>\n",
       "      <td>0</td>\n",
       "      <td>5</td>\n",
       "      <td>26</td>\n",
       "      <td>0</td>\n",
       "      <td>31</td>\n",
       "    </tr>\n",
       "    <tr>\n",
       "      <th>b8627340a2d3370533666460756b96d868a0325e518e4f95d0457c084bbb8064</th>\n",
       "      <td>2</td>\n",
       "      <td>11</td>\n",
       "      <td>11</td>\n",
       "      <td>10</td>\n",
       "      <td>34</td>\n",
       "    </tr>\n",
       "    <tr>\n",
       "      <th>7afb313b11274c72d949759f5af5c21c6412b48f5bec5a8b8ac9f8fc500e67cb</th>\n",
       "      <td>0</td>\n",
       "      <td>0</td>\n",
       "      <td>6</td>\n",
       "      <td>29</td>\n",
       "      <td>35</td>\n",
       "    </tr>\n",
       "  </tbody>\n",
       "</table>\n",
       "<p>153206 rows × 5 columns</p>\n",
       "</div>"
      ],
      "text/plain": [
       "                                                    user_frequency_2013  \\\n",
       "userid                                                                    \n",
       "00002eaf0b53c394391f96a5cae5023ef8ae704797880bb...                    0   \n",
       "a50495404561ce885695d4269da4f0874e5d4d29c8bd3a0...                    0   \n",
       "a502e5eb61d78269453d2f6aef9616a841c5c7d02dfda10...                    0   \n",
       "a502e2c43ead952ba0b3f44de87bf01260e29a4a9af0d0c...                    0   \n",
       "a501ff908531db342b70a312769fd5fa2e1138500bd1d23...                    0   \n",
       "...                                                                 ...   \n",
       "585c7ce403ac8a5a4add4d421b14eb60390ed7d5775075d...                    6   \n",
       "02af4f533c4c4a1efbee21b69b1d8e6d84e255dc5f25c4b...                    0   \n",
       "42c37973743d7c79bf165bc656307e7e63cc07aa0d4fe48...                    0   \n",
       "b8627340a2d3370533666460756b96d868a0325e518e4f9...                    2   \n",
       "7afb313b11274c72d949759f5af5c21c6412b48f5bec5a8...                    0   \n",
       "\n",
       "                                                    user_frequency_2014  \\\n",
       "userid                                                                    \n",
       "00002eaf0b53c394391f96a5cae5023ef8ae704797880bb...                    0   \n",
       "a50495404561ce885695d4269da4f0874e5d4d29c8bd3a0...                    0   \n",
       "a502e5eb61d78269453d2f6aef9616a841c5c7d02dfda10...                    0   \n",
       "a502e2c43ead952ba0b3f44de87bf01260e29a4a9af0d0c...                    0   \n",
       "a501ff908531db342b70a312769fd5fa2e1138500bd1d23...                    0   \n",
       "...                                                                 ...   \n",
       "585c7ce403ac8a5a4add4d421b14eb60390ed7d5775075d...                    6   \n",
       "02af4f533c4c4a1efbee21b69b1d8e6d84e255dc5f25c4b...                    0   \n",
       "42c37973743d7c79bf165bc656307e7e63cc07aa0d4fe48...                    5   \n",
       "b8627340a2d3370533666460756b96d868a0325e518e4f9...                   11   \n",
       "7afb313b11274c72d949759f5af5c21c6412b48f5bec5a8...                    0   \n",
       "\n",
       "                                                    user_frequency_2015  \\\n",
       "userid                                                                    \n",
       "00002eaf0b53c394391f96a5cae5023ef8ae704797880bb...                    0   \n",
       "a50495404561ce885695d4269da4f0874e5d4d29c8bd3a0...                    0   \n",
       "a502e5eb61d78269453d2f6aef9616a841c5c7d02dfda10...                    0   \n",
       "a502e2c43ead952ba0b3f44de87bf01260e29a4a9af0d0c...                    0   \n",
       "a501ff908531db342b70a312769fd5fa2e1138500bd1d23...                    1   \n",
       "...                                                                 ...   \n",
       "585c7ce403ac8a5a4add4d421b14eb60390ed7d5775075d...                    9   \n",
       "02af4f533c4c4a1efbee21b69b1d8e6d84e255dc5f25c4b...                   28   \n",
       "42c37973743d7c79bf165bc656307e7e63cc07aa0d4fe48...                   26   \n",
       "b8627340a2d3370533666460756b96d868a0325e518e4f9...                   11   \n",
       "7afb313b11274c72d949759f5af5c21c6412b48f5bec5a8...                    6   \n",
       "\n",
       "                                                    user_frequency_2016  \\\n",
       "userid                                                                    \n",
       "00002eaf0b53c394391f96a5cae5023ef8ae704797880bb...                    1   \n",
       "a50495404561ce885695d4269da4f0874e5d4d29c8bd3a0...                    1   \n",
       "a502e5eb61d78269453d2f6aef9616a841c5c7d02dfda10...                    1   \n",
       "a502e2c43ead952ba0b3f44de87bf01260e29a4a9af0d0c...                    1   \n",
       "a501ff908531db342b70a312769fd5fa2e1138500bd1d23...                    0   \n",
       "...                                                                 ...   \n",
       "585c7ce403ac8a5a4add4d421b14eb60390ed7d5775075d...                    8   \n",
       "02af4f533c4c4a1efbee21b69b1d8e6d84e255dc5f25c4b...                    2   \n",
       "42c37973743d7c79bf165bc656307e7e63cc07aa0d4fe48...                    0   \n",
       "b8627340a2d3370533666460756b96d868a0325e518e4f9...                   10   \n",
       "7afb313b11274c72d949759f5af5c21c6412b48f5bec5a8...                   29   \n",
       "\n",
       "                                                    sum_purchases  \n",
       "userid                                                             \n",
       "00002eaf0b53c394391f96a5cae5023ef8ae704797880bb...              1  \n",
       "a50495404561ce885695d4269da4f0874e5d4d29c8bd3a0...              1  \n",
       "a502e5eb61d78269453d2f6aef9616a841c5c7d02dfda10...              1  \n",
       "a502e2c43ead952ba0b3f44de87bf01260e29a4a9af0d0c...              1  \n",
       "a501ff908531db342b70a312769fd5fa2e1138500bd1d23...              1  \n",
       "...                                                           ...  \n",
       "585c7ce403ac8a5a4add4d421b14eb60390ed7d5775075d...             29  \n",
       "02af4f533c4c4a1efbee21b69b1d8e6d84e255dc5f25c4b...             30  \n",
       "42c37973743d7c79bf165bc656307e7e63cc07aa0d4fe48...             31  \n",
       "b8627340a2d3370533666460756b96d868a0325e518e4f9...             34  \n",
       "7afb313b11274c72d949759f5af5c21c6412b48f5bec5a8...             35  \n",
       "\n",
       "[153206 rows x 5 columns]"
      ]
     },
     "metadata": {},
     "output_type": "display_data"
    }
   ],
   "source": [
    "frequencies_data['sum_purchases'] = frequencies_data.sum(axis=1)\n",
    "display(frequencies_data.sort_values('sum_purchases'))"
   ]
  },
  {
   "cell_type": "code",
   "execution_count": 26,
   "id": "9fe45ffb",
   "metadata": {},
   "outputs": [
    {
     "data": {
      "text/plain": [
       "user_frequency_2013    0.108945\n",
       "user_frequency_2014    0.254031\n",
       "user_frequency_2015    0.318258\n",
       "user_frequency_2016    0.500150\n",
       "sum_purchases          1.181383\n",
       "dtype: float64"
      ]
     },
     "execution_count": 26,
     "metadata": {},
     "output_type": "execute_result"
    }
   ],
   "source": [
    "frequencies_data.mean()"
   ]
  },
  {
   "cell_type": "markdown",
   "id": "18123ec8",
   "metadata": {},
   "source": [
    "When we split the data this way, we see that there has been an increase in the average number of purchases across the years, a positive indication in the interest for games from our company.\n",
    "\n",
    "We can use this data to also categorise users based on their purchase history. For example, users who have not purchased anything from the last 2 years could be considered churned or dormant (see, for example, user **00015d3d8ae55e47cc0bf2d964ea7f6a3f4ac65239abe280dd1adb8b143e3ff1**); users who have purchased at least one game every year could be labeled regulars or loyals (see, for example, user **b8627340a2d3370533666460756b96d868a0325e518e4f95d0457c084bbb8064**); and users who started recently purchasing SquareEnix games could be considered newcomers or developing users (for example, user **a502e2c43ead952ba0b3f44de87bf01260e29a4a9af0d0c47f29b11c4583406e**). We won't be doing these classifications, since they can be arbitrary and highly dependent of the business context.\n",
    "\n",
    "Let's merge these new datasets into one and move on to looking at a simple clustering exercise."
   ]
  },
  {
   "cell_type": "code",
   "execution_count": 27,
   "id": "c0a45b99",
   "metadata": {},
   "outputs": [],
   "source": [
    "recency_data.drop(\n",
    "    'timestamp_purchased', \n",
    "    axis=1\n",
    ").merge(\n",
    "    frequencies_data.drop('sum_purchases', axis=1).reset_index(),\n",
    "    on='userid',\n",
    "    how='outer'\n",
    ").to_json(\n",
    "    '../data/processed/simple_userRF.json'\n",
    ")"
   ]
  }
 ],
 "metadata": {
  "kernelspec": {
   "display_name": "Python 3 (ipykernel)",
   "language": "python",
   "name": "python3"
  },
  "language_info": {
   "codemirror_mode": {
    "name": "ipython",
    "version": 3
   },
   "file_extension": ".py",
   "mimetype": "text/x-python",
   "name": "python",
   "nbconvert_exporter": "python",
   "pygments_lexer": "ipython3",
   "version": "3.8.12"
  }
 },
 "nbformat": 4,
 "nbformat_minor": 5
}
